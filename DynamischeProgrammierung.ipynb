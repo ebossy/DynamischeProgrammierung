{
 "cells": [
  {
   "metadata": {},
   "cell_type": "markdown",
   "source": [
    "###  Beispiel: Fibonacci-Zahlen\n",
    "**Problem**: Berechne die \\(n\\)-te Fibonacci-Zahl.  \n",
    "- **DP-Lösung**:  \n",
    "  - **Top-Down (Memoization)**  \n",
    "  - **Bottom-Up (Tabulation)**"
   ],
   "id": "900babf35f059deb"
  },
  {
   "metadata": {
    "ExecuteTime": {
     "end_time": "2024-11-20T22:14:50.147755Z",
     "start_time": "2024-11-20T22:14:50.144835Z"
    }
   },
   "cell_type": "code",
   "source": [
    "x = 40\n",
    "m=2000"
   ],
   "id": "457898736514181e",
   "outputs": [],
   "execution_count": 37
  },
  {
   "metadata": {},
   "cell_type": "markdown",
   "source": [
    "###  Top-Down-Ansatz\n",
    "Druch Rekursion nicht sehr Große Zahlen möglich"
   ],
   "id": "c27a9ed6ac30565e"
  },
  {
   "metadata": {
    "collapsed": true,
    "ExecuteTime": {
     "end_time": "2024-11-20T22:14:50.179003Z",
     "start_time": "2024-11-20T22:14:50.172686Z"
    }
   },
   "cell_type": "code",
   "source": [
    "def fib_memo(n, memo={}):\n",
    "    if n <= 1:\n",
    "        return n\n",
    "    if n not in memo: #wenn nicht im Speicher berechnen\n",
    "        memo[n] = fib_memo(n-1, memo) + fib_memo(n-2, memo)\n",
    "    return memo[n]\n",
    "\n",
    "\n",
    "fib_memo(x)  \n",
    "fib_memo(m)"
   ],
   "id": "initial_id",
   "outputs": [
    {
     "data": {
      "text/plain": [
       "4224696333392304878706725602341482782579852840250681098010280137314308584370130707224123599639141511088446087538909603607640194711643596029271983312598737326253555802606991585915229492453904998722256795316982874482472992263901833716778060607011615497886719879858311468870876264597369086722884023654422295243347964480139515349562972087652656069529806499841977448720155612802665404554171717881930324025204312082516817125"
      ]
     },
     "execution_count": 38,
     "metadata": {},
     "output_type": "execute_result"
    }
   ],
   "execution_count": 38
  },
  {
   "metadata": {},
   "cell_type": "markdown",
   "source": [
    "###  Bottom-Up-Ansatz\n",
    "Iteratives verfahren ermöglicht arbeit mit großen Zahlen"
   ],
   "id": "faecb8711ab7003b"
  },
  {
   "metadata": {
    "ExecuteTime": {
     "end_time": "2024-11-20T22:14:50.226849Z",
     "start_time": "2024-11-20T22:14:50.198527Z"
    }
   },
   "cell_type": "code",
   "source": [
    "def fib_tab(n):\n",
    "    if n <= 1:\n",
    "        return n\n",
    "    dp = [0, 1]\n",
    "    for i in range(2, n + 1): #beim kleinsten wert anfangen und Hoch arbeiten \n",
    "        dp.append(dp[i - 1] + dp[i - 2])\n",
    "    return dp[n]\n",
    "\n",
    "\n",
    "fib_tab(x)  \n",
    "fib_tab(m)\n",
    "fib_tab(20000)"
   ],
   "id": "33f7131772e4ec31",
   "outputs": [
    {
     "data": {
      "text/plain": [
       "2531162323732361242240155003520607291766356485802485278951929841991312781760541315230153423463758831637443488219211037689033673531462742885329724071555187618026931630449193158922771331642302030331971098689235780843478258502779200293635651897483309686042860996364443514558772156043691404155819572984971754278513112487985892718229593329483578531419148805380281624260900362993556916638613939977074685016188258584312329139526393558096840812970422952418558991855772306882442574855589237165219912238201311184749075137322987656049866305366913734924425822681338966507463855180236283582409861199212323835947891143765414913345008456022009455704210891637791911265475167769704477334859109822590053774932978465651023851447920601310106288957894301592502061560528131203072778677491443420921822590709910448617329156135355464620891788459566081572824889514296350670950824208245170667601726417091127999999941149913010424532046881958285409468463211897582215075436515584016297874572183907949257286261608612401379639484713101138120404671732190451327881433201025184027541696124114463488665359385870910331476156665889459832092710304159637019707297988417848767011085425271875588008671422491434005115288334343837778792282383576736341414410248994081564830202363820504190074504566612515965134665683289356188727549463732830075811851574961558669278847363279870595320099844676879457196432535973357128305390290471349480258751812890314779723508104229525161740643984423978659638233074463100366500571977234508464710078102581304823235436518145074482824812996511614161933313389889630935320139507075992100561077534028207257574257706278201308302642634678112591091843082665721697117838726431766741158743554298864560993255547608496686850185804659790217122426535133253371422250684486113457341827911625517128815447325958547912113242367201990672230681308819195941016156001961954700241576553750737681552256845421159386858399433450045903975167084252876848848085910156941603293424067793097271128806817514906531652407763118308162377033463203514657531210413149191213595455280387631030665594589183601575340027172997222489081631144728873621805528648768511368948639522975539046995395707688938978847084621586473529546678958226255042389998718141303055036060772003887773038422366913820397748550793178167220193346017430024134496141145991896227741842515718997898627269918236920453493946658273870473264523119133765447653295022886429174942653014656521909469613184983671431465934965489425515981067546087342348350724207583544436107294087637975025147846254526938442435644928231027868701394819091132912397475713787593612758364812687556725146456646878912169274219209708166678668152184941578590201953144030519381922273252666652671717526318606676754556170379350956342095455612780202199922615392785572481747913435560866995432578680971243966868110016581395696310922519803685837460795358384618017215468122880442252343684547233668502313239328352671318130604247460452134121833305284398726438573787798499612760939462427922917659263046333084007208056631996856315539698234022953452211505675629153637867252695056925345220084020071611220575700841268302638995272842160994219632684575364180160991884885091858259996299627148614456696661412745040519981575543804847463997422326563897043803732970397488471644906183310144691243649149542394691524972023935190633672827306116525712882959108434211652465621144702015336657459532134026915214509960877430595844287585350290234547564574848753110281101545931547225811763441710217452979668178025286460158324658852904105792472468108996135476637212057508192176910900422826969523438985332067597093454021924077101784215936539638808624420121459718286059401823614213214326004270471752802725625810953787713898846144256909835116371235019527013180204030167601567064268573820697948868982630904164685161783088076506964317303709708574052747204405282785965604677674192569851918643651835755242670293612851920696732320545562286110332140065912751551110134916256237884844001366366654055079721985816714803952429301558096968202261698837096090377863017797020488044826628817462866854321356787305635653577619877987998113667928954840972022833505708587561902023411398915823487627297968947621416912816367516125096563705174220460639857683971213093125"
      ]
     },
     "execution_count": 39,
     "metadata": {},
     "output_type": "execute_result"
    }
   ],
   "execution_count": 39
  },
  {
   "metadata": {},
   "cell_type": "markdown",
   "source": [
    "###  Rekursives verfahren\n",
    "Sehr Früh Lange Rechenzeit"
   ],
   "id": "236768590a395bee"
  },
  {
   "metadata": {
    "jupyter": {
     "is_executing": true
    },
    "ExecuteTime": {
     "start_time": "2024-11-20T22:14:50.355763Z"
    }
   },
   "cell_type": "code",
   "source": [
    "def fibonacci(n):\n",
    "    if n <= 1:\n",
    "        return n\n",
    "    return fibonacci(n - 1) + fibonacci(n - 2)\n",
    "\n",
    "\n",
    "fibonacci(x)\n",
    "\n"
   ],
   "id": "7b2a50dbc878a8e5",
   "outputs": [],
   "execution_count": null
  },
  {
   "metadata": {},
   "cell_type": "markdown",
   "source": [
    "###  Beispiel: Subset-Sum Problem\n",
    "- Gegeben ist eine Menge von zahlen\n",
    "- **Ziel:** eine Zielvariable erreichen aus der Summe der Menge von Zahlen\n",
    "- In diesem Beispiel erfährt man nur, ob es geht nicht mit welcher kombination"
   ],
   "id": "4b85fb727775051e"
  },
  {
   "metadata": {
    "ExecuteTime": {
     "end_time": "2024-11-22T16:46:23.000347Z",
     "start_time": "2024-11-22T16:46:22.994389Z"
    }
   },
   "cell_type": "code",
   "source": [
    "def subset_sum(numbers, target):\n",
    "    n = len(numbers)\n",
    "    \n",
    "    # Initialisierung der Tabelle dp[n+1][target+1]\n",
    "    # dp[i][j] ist True, wenn eine Teilmenge der ersten i Zahlen die Summe j ergibt.\n",
    "    dp = [[False] * (target + 1) for _ in range(n + 1)]\n",
    "    \n",
    "    # Wenn die Zielsumme 0 ist, ist die Antwort immer True (leere Teilmenge)\n",
    "    for i in range(n + 1):\n",
    "        dp[i][0] = True\n",
    "\n",
    "    # Tabelle füllen\n",
    "    for i in range(1, n + 1):\n",
    "        for j in range(1, target + 1):\n",
    "            if numbers[i - 1] > j: #wenn zahl größer als Ziel\n",
    "                dp[i][j] = dp[i - 1][j] \n",
    "            else:\n",
    "                dp[i][j] = (dp[i - 1][j] #wenn die Zeile darüber True ist neue auch True\n",
    "                            or dp[i - 1][j - numbers[i - 1]]) #Prüfung in der Tabelle Zielvariable - Zahl\n",
    "\n",
    "    # Rückgabe der Lösung\n",
    "    return dp[n][target]"
   ],
   "id": "d6de6407c1edcf1a",
   "outputs": [],
   "execution_count": 14
  },
  {
   "metadata": {},
   "cell_type": "markdown",
   "source": [
    "#### Beispiel Tabelle \n",
    "- Zielvariable 9\n",
    "- Menge = [3, 34, 4, 12, 5, 2]\n",
    "- reihen = Fall für ersten i Zahlen aus der Menge\n",
    "- Spalten = Fall für Zielvariable j\n",
    "<table border=\"1\" style=\"border-collapse: collapse; text-align: center;\">\n",
    "  <tr>\n",
    "    <th>Index</th>\n",
    "    <th>0</th>\n",
    "    <th>1</th>\n",
    "    <th>2</th>\n",
    "    <th>3</th>\n",
    "    <th>4</th>\n",
    "    <th>5</th>\n",
    "    <th>6</th>\n",
    "    <th>7</th>\n",
    "    <th>8</th>\n",
    "    <th>9</th>\n",
    "  </tr>\n",
    "  <tr>\n",
    "    <td>0</td>\n",
    "    <td>True</td>\n",
    "    <td>False</td>\n",
    "    <td>False</td>\n",
    "    <td>False</td>\n",
    "    <td>False</td>\n",
    "    <td>False</td>\n",
    "    <td>False</td>\n",
    "    <td>False</td>\n",
    "    <td>False</td>\n",
    "    <td>False</td>\n",
    "  </tr>\n",
    "  <tr>\n",
    "    <td>1</td>\n",
    "    <td>True</td>\n",
    "    <td>False</td>\n",
    "    <td>False</td>\n",
    "    <td>True</td>\n",
    "    <td>False</td>\n",
    "    <td>False</td>\n",
    "    <td>False</td>\n",
    "    <td>False</td>\n",
    "    <td>False</td>\n",
    "    <td>False</td>\n",
    "  </tr>\n",
    "  <tr>\n",
    "    <td>2</td>\n",
    "    <td>True</td>\n",
    "    <td>False</td>\n",
    "    <td>False</td>\n",
    "    <td>True</td>\n",
    "    <td>False</td>\n",
    "    <td>False</td>\n",
    "    <td>False</td>\n",
    "    <td>False</td>\n",
    "    <td>False</td>\n",
    "    <td>False</td>\n",
    "  </tr>\n",
    "  <tr>\n",
    "    <td>3</td>\n",
    "    <td>True</td>\n",
    "    <td>False</td>\n",
    "    <td>False</td>\n",
    "    <td>True</td>\n",
    "    <td>True</td>\n",
    "    <td>False</td>\n",
    "    <td>False</td>\n",
    "    <td>True</td>\n",
    "    <td>False</td>\n",
    "    <td>False</td>\n",
    "  </tr>\n",
    "  <tr>\n",
    "    <td>4</td>\n",
    "    <td>True</td>\n",
    "    <td>False</td>\n",
    "    <td>False</td>\n",
    "    <td>True</td>\n",
    "    <td>True</td>\n",
    "    <td>False</td>\n",
    "    <td>False</td>\n",
    "    <td>True</td>\n",
    "    <td>False</td>\n",
    "    <td>False</td>\n",
    "  </tr>\n",
    "  <tr>\n",
    "    <td>5</td>\n",
    "    <td>True</td>\n",
    "    <td>False</td>\n",
    "    <td>False</td>\n",
    "    <td>True</td>\n",
    "    <td>True</td>\n",
    "    <td>True</td>\n",
    "    <td>False</td>\n",
    "    <td>True</td>\n",
    "    <td>True</td>\n",
    "    <td>True</td>\n",
    "  </tr>\n",
    "  <tr>\n",
    "    <td>6</td>\n",
    "    <td>True</td>\n",
    "    <td>False</td>\n",
    "    <td>True</td>\n",
    "    <td>True</td>\n",
    "    <td>True</td>\n",
    "    <td>True</td>\n",
    "    <td>True</td>\n",
    "    <td>True</td>\n",
    "    <td>True</td>\n",
    "    <td>True</td>\n",
    "  </tr>\n",
    "</table>"
   ],
   "id": "73e7fd7eb40ba161"
  },
  {
   "metadata": {
    "ExecuteTime": {
     "end_time": "2024-11-22T17:00:22.790876Z",
     "start_time": "2024-11-22T17:00:22.784941Z"
    }
   },
   "cell_type": "code",
   "source": [
    "# Beispiel\n",
    "numbers = [3, 34, 4, 12, 5, 2]\n",
    "target = 9\n",
    "result = subset_sum(numbers, target)\n",
    "\n",
    "print(f\"Gibt es eine Teilmenge, die die Summe {target} ergibt? {'Ja' if result else 'Nein'}\")"
   ],
   "id": "62f86e9bb497ef50",
   "outputs": [
    {
     "name": "stdout",
     "output_type": "stream",
     "text": [
      "Gibt es eine Teilmenge, die die Summe 9 ergibt? Ja\n"
     ]
    }
   ],
   "execution_count": 16
  },
  {
   "metadata": {},
   "cell_type": "code",
   "outputs": [],
   "execution_count": null,
   "source": "",
   "id": "92e446f0026fd106"
  }
 ],
 "metadata": {
  "kernelspec": {
   "display_name": "Python 3",
   "language": "python",
   "name": "python3"
  },
  "language_info": {
   "codemirror_mode": {
    "name": "ipython",
    "version": 2
   },
   "file_extension": ".py",
   "mimetype": "text/x-python",
   "name": "python",
   "nbconvert_exporter": "python",
   "pygments_lexer": "ipython2",
   "version": "2.7.6"
  }
 },
 "nbformat": 4,
 "nbformat_minor": 5
}

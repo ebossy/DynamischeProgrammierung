{
 "cells": [
  {
   "metadata": {},
   "cell_type": "markdown",
   "source": [
    "###  Beispiel: Fibonacci- \n",
    "<img src=\"src/Fibonacci_sequence.png\" alt=\"Beschreibung des Bildes\" style=\"max-width: 40%; height: auto;\">\n",
    "\n",
    "**Problem**: Berechne die \\(n\\)-te Fibonacci-Zahl.  \n",
    "- **Rekursive Lösung**\n",
    "- **DP-Lösung**:  \n",
    "  - **Top-Down (Memoization)**  \n",
    "  - **Bottom-Up (Tabulation)**"
   ],
   "id": "900babf35f059deb"
  },
  {
   "metadata": {},
   "cell_type": "markdown",
   "source": [
    "###  Rekursives verfahren\n",
    "Sehr Früh Lange Rechenzeit"
   ],
   "id": "236768590a395bee"
  },
  {
   "metadata": {
    "ExecuteTime": {
     "end_time": "2024-11-29T16:10:31.641716Z",
     "start_time": "2024-11-29T16:10:15.448996Z"
    }
   },
   "cell_type": "code",
   "source": [
    "def fibonacci(n):\n",
    "    if n <= 1:\n",
    "        return n\n",
    "    return fibonacci(n - 1) + fibonacci(n - 2)\n",
    "\n",
    "\n",
    "fibonacci(40);"
   ],
   "id": "7b2a50dbc878a8e5",
   "outputs": [],
   "execution_count": 11
  },
  {
   "metadata": {},
   "cell_type": "markdown",
   "source": "<img src=\"src/memofib.PNG\" alt=\"Beschreibung des Bildes\" style=\"max-width: 40%; height: auto;\">",
   "id": "8cd515d887068f80"
  },
  {
   "metadata": {},
   "cell_type": "markdown",
   "source": [
    "###  Top-Down-Ansatz\n",
    "Druch Rekursion nicht sehr Große Zahlen möglich"
   ],
   "id": "56ad841745dc249"
  },
  {
   "metadata": {
    "collapsed": true,
    "ExecuteTime": {
     "end_time": "2024-11-29T16:12:47.595683Z",
     "start_time": "2024-11-29T16:12:46.081167Z"
    }
   },
   "cell_type": "code",
   "source": [
    "def fib_memo(n, memo={}):\n",
    "    if n <= 1:\n",
    "        return n\n",
    "    if n not in memo: #wenn nicht im Speicher berechnen\n",
    "        memo[n] = fib_memo(n-1, memo) + fib_memo(n-2, memo)\n",
    "    return memo[n]\n",
    "\n",
    "\n",
    "fib_memo(40)  \n",
    "fib_memo(4000);"
   ],
   "id": "initial_id",
   "outputs": [
    {
     "ename": "RecursionError",
     "evalue": "maximum recursion depth exceeded",
     "output_type": "error",
     "traceback": [
      "\u001B[1;31m---------------------------------------------------------------------------\u001B[0m",
      "\u001B[1;31mRecursionError\u001B[0m                            Traceback (most recent call last)",
      "Cell \u001B[1;32mIn[15], line 10\u001B[0m\n\u001B[0;32m      6\u001B[0m     \u001B[38;5;28;01mreturn\u001B[39;00m memo[n]\n\u001B[0;32m      9\u001B[0m fib_memo(\u001B[38;5;241m40\u001B[39m)  \n\u001B[1;32m---> 10\u001B[0m \u001B[43mfib_memo\u001B[49m\u001B[43m(\u001B[49m\u001B[38;5;241;43m4000\u001B[39;49m\u001B[43m)\u001B[49m;\n",
      "Cell \u001B[1;32mIn[15], line 5\u001B[0m, in \u001B[0;36mfib_memo\u001B[1;34m(n, memo)\u001B[0m\n\u001B[0;32m      3\u001B[0m     \u001B[38;5;28;01mreturn\u001B[39;00m n\n\u001B[0;32m      4\u001B[0m \u001B[38;5;28;01mif\u001B[39;00m n \u001B[38;5;129;01mnot\u001B[39;00m \u001B[38;5;129;01min\u001B[39;00m memo: \u001B[38;5;66;03m#wenn nicht im Speicher berechnen\u001B[39;00m\n\u001B[1;32m----> 5\u001B[0m     memo[n] \u001B[38;5;241m=\u001B[39m \u001B[43mfib_memo\u001B[49m\u001B[43m(\u001B[49m\u001B[43mn\u001B[49m\u001B[38;5;241;43m-\u001B[39;49m\u001B[38;5;241;43m1\u001B[39;49m\u001B[43m,\u001B[49m\u001B[43m \u001B[49m\u001B[43mmemo\u001B[49m\u001B[43m)\u001B[49m \u001B[38;5;241m+\u001B[39m fib_memo(n\u001B[38;5;241m-\u001B[39m\u001B[38;5;241m2\u001B[39m, memo)\n\u001B[0;32m      6\u001B[0m \u001B[38;5;28;01mreturn\u001B[39;00m memo[n]\n",
      "Cell \u001B[1;32mIn[15], line 5\u001B[0m, in \u001B[0;36mfib_memo\u001B[1;34m(n, memo)\u001B[0m\n\u001B[0;32m      3\u001B[0m     \u001B[38;5;28;01mreturn\u001B[39;00m n\n\u001B[0;32m      4\u001B[0m \u001B[38;5;28;01mif\u001B[39;00m n \u001B[38;5;129;01mnot\u001B[39;00m \u001B[38;5;129;01min\u001B[39;00m memo: \u001B[38;5;66;03m#wenn nicht im Speicher berechnen\u001B[39;00m\n\u001B[1;32m----> 5\u001B[0m     memo[n] \u001B[38;5;241m=\u001B[39m \u001B[43mfib_memo\u001B[49m\u001B[43m(\u001B[49m\u001B[43mn\u001B[49m\u001B[38;5;241;43m-\u001B[39;49m\u001B[38;5;241;43m1\u001B[39;49m\u001B[43m,\u001B[49m\u001B[43m \u001B[49m\u001B[43mmemo\u001B[49m\u001B[43m)\u001B[49m \u001B[38;5;241m+\u001B[39m fib_memo(n\u001B[38;5;241m-\u001B[39m\u001B[38;5;241m2\u001B[39m, memo)\n\u001B[0;32m      6\u001B[0m \u001B[38;5;28;01mreturn\u001B[39;00m memo[n]\n",
      "    \u001B[1;31m[... skipping similar frames: fib_memo at line 5 (2974 times)]\u001B[0m\n",
      "Cell \u001B[1;32mIn[15], line 5\u001B[0m, in \u001B[0;36mfib_memo\u001B[1;34m(n, memo)\u001B[0m\n\u001B[0;32m      3\u001B[0m     \u001B[38;5;28;01mreturn\u001B[39;00m n\n\u001B[0;32m      4\u001B[0m \u001B[38;5;28;01mif\u001B[39;00m n \u001B[38;5;129;01mnot\u001B[39;00m \u001B[38;5;129;01min\u001B[39;00m memo: \u001B[38;5;66;03m#wenn nicht im Speicher berechnen\u001B[39;00m\n\u001B[1;32m----> 5\u001B[0m     memo[n] \u001B[38;5;241m=\u001B[39m \u001B[43mfib_memo\u001B[49m\u001B[43m(\u001B[49m\u001B[43mn\u001B[49m\u001B[38;5;241;43m-\u001B[39;49m\u001B[38;5;241;43m1\u001B[39;49m\u001B[43m,\u001B[49m\u001B[43m \u001B[49m\u001B[43mmemo\u001B[49m\u001B[43m)\u001B[49m \u001B[38;5;241m+\u001B[39m fib_memo(n\u001B[38;5;241m-\u001B[39m\u001B[38;5;241m2\u001B[39m, memo)\n\u001B[0;32m      6\u001B[0m \u001B[38;5;28;01mreturn\u001B[39;00m memo[n]\n",
      "\u001B[1;31mRecursionError\u001B[0m: maximum recursion depth exceeded"
     ]
    }
   ],
   "execution_count": 15
  },
  {
   "metadata": {},
   "cell_type": "markdown",
   "source": "<img src=\"src/memofib-unused-hidden.PNG\" alt=\"Beschreibung des Bildes\" style=\"max-width: 40%; height: auto;\">",
   "id": "ebb8a9fa23f5b05f"
  },
  {
   "metadata": {},
   "cell_type": "markdown",
   "source": [
    "###  Bottom-Up-Ansatz\n",
    "Iteratives verfahren ermöglicht arbeit mit großen Zahlen"
   ],
   "id": "da294bed3f7c6e32"
  },
  {
   "metadata": {
    "ExecuteTime": {
     "end_time": "2024-11-29T16:12:33.837455Z",
     "start_time": "2024-11-29T16:12:33.808009Z"
    }
   },
   "cell_type": "code",
   "source": [
    "def fib_tab(n):\n",
    "    if n <= 1:\n",
    "        return n\n",
    "    dp = [0, 1]\n",
    "    for i in range(2, n + 1): #beim kleinsten wert anfangen und Hoch arbeiten \n",
    "        dp.append(dp[i - 1] + dp[i - 2])\n",
    "    return dp[n]\n",
    "\n",
    "\n",
    "fib_tab(40)  \n",
    "fib_tab(20000);"
   ],
   "id": "33f7131772e4ec31",
   "outputs": [],
   "execution_count": 14
  },
  {
   "metadata": {},
   "cell_type": "markdown",
   "source": [
    "# 0/1-Rucksackproblem\n",
    "\n",
    "\n",
    "Das Rucksackproblem ist ein Optimierungsproblem, bei dem man einen Rucksack mit einer begrenzten Kapazität hat und eine Menge von Gegenständen, die jeweils einen gewissen Wert und ein entsprechendes Gewicht haben. Das Ziel dabei ist, dass man eine Auswahl von Gegenständen treffen muss, die den Gesamtwert maximiert ohne dass das Gesamtgewicht des Rucksacks überschritten wird.\n",
    "Dabei kann man jeden Gegenstand entweder ganz (1) oder garnicht auswählen (0).\n",
    "\n",
    "<img src=\"src/Rucksackproblembild.jpg\" width=\"500\" height=\"300\" />\n"
   ],
   "id": "19a3da3b987c5d14"
  },
  {
   "metadata": {
    "ExecuteTime": {
     "end_time": "2024-11-29T15:53:42.856597Z",
     "start_time": "2024-11-29T15:53:42.852203Z"
    }
   },
   "cell_type": "code",
   "source": [
    "n = 3 #Anzahl der Gegenstände\n",
    "w = 6 #Max. Gewicht\n",
    "wert_gegenstand = [20, 10, 15]\n",
    "gewicht_gegenstand = [4,2,3]"
   ],
   "id": "3d353d2aa12cd799",
   "outputs": [],
   "execution_count": 4
  },
  {
   "metadata": {},
   "cell_type": "markdown",
   "source": "Im folgenden Code wird der Ansatz der Tabulation verwendet, man baut iterativ eine Tabelle auf, dabei geht man alle möglichen Kombinationen von Gegenständen und Kapazitäten durch und speichert den maximalen Wert, den man mit den bisherigen Gegenständen unter der aktuellen Kapazität erreichen kann. Wenn der Gegenstand aufgenommen wird, wird der verbleibende Platz berücksichtigt, und der Wert aus der Tabelle für das verbleibende Gewicht wird addiert.",
   "id": "b94cdf1b045c23a8"
  },
  {
   "metadata": {
    "ExecuteTime": {
     "end_time": "2024-11-29T15:53:42.873913Z",
     "start_time": "2024-11-29T15:53:42.867553Z"
    }
   },
   "cell_type": "code",
   "source": [
    "#Tabelle initialisieren\n",
    "tab = []\n",
    "for i in range(n + 1):\n",
    "    tab.append([0] * (w + 1)) \n",
    "\n",
    "#Tabelle mit maximalen Werten (Lösungen) füllen\n",
    "for gegenstand in range(1, n + 1):\n",
    "    for kapazitaet in range(1, w + 1):\n",
    "        maxWertOhneCurr = tab[gegenstand - 1][kapazitaet]  #Maximaler Wert ohne den aktuellen Gegenstand\n",
    "        maxWertMitCurr = 0\n",
    "        \n",
    "        gewichtVonCurr = gewicht_gegenstand[gegenstand - 1]  #Gewicht des aktuellen Gegenstands\n",
    "        \n",
    "        if kapazitaet >= gewichtVonCurr:  #Prüfen, ob der aktuelle Gegenstand in der gegeben Kapaz. passt\n",
    "            maxWertMitCurr = wert_gegenstand[gegenstand - 1] #Überschreibt maxWertMitCurr mit dem Wert des Gegenstands\n",
    "            verbl_kapazitaet = kapazitaet - gewichtVonCurr\n",
    "            maxWertMitCurr += tab[gegenstand - 1][verbl_kapazitaet]  #Maximalen Wert hinzu addieren, den man mit der verbleibenden Kapazität und den vorherigen Gegenständen erreichen kann\n",
    "            \n",
    "        tab[gegenstand][kapazitaet] = max(maxWertOhneCurr, maxWertMitCurr) #Speichert maximalsten Wert"
   ],
   "id": "38b8a7ba35ca274f",
   "outputs": [],
   "execution_count": 5
  },
  {
   "metadata": {
    "ExecuteTime": {
     "end_time": "2024-11-29T15:53:43.096350Z",
     "start_time": "2024-11-29T15:53:43.091354Z"
    }
   },
   "cell_type": "code",
   "source": [
    "print(\"Tabelle der maximalen Werte (Zeilen: Gegenstände, Spalten: Tragfähigkeit/Kapazität):\")\n",
    "\n",
    "\n",
    "print(\"                 \", end=\"\")\n",
    "for i in range(w + 1):\n",
    "    print(f\"{i:3}\", end=\" \")\n",
    "print()  # Neue Zeile für die Tabelle\n",
    "\n",
    "for i in range(n + 1):\n",
    "    print(f\"{i:2}. Gegenstand : \", end=\"\")  #end entfernt Zeilenumbruch\n",
    "    for j in range(w + 1):\n",
    "        print(f\"{tab[i][j]:3}\", end=\" \")\n",
    "    print() \n",
    "        \n",
    "print(\"\\n----> Bestmöglichster Wert: \" + str(tab[n][w]) + \"<----\") #Der letzte Wert in der Tabelle\n"
   ],
   "id": "416763bb1cd15c93",
   "outputs": [
    {
     "name": "stdout",
     "output_type": "stream",
     "text": [
      "Tabelle der maximalen Werte (Zeilen: Gegenstände, Spalten: Tragfähigkeit/Kapazität):\n",
      "                   0   1   2   3   4   5   6 \n",
      " 0. Gegenstand :   0   0   0   0   0   0   0 \n",
      " 1. Gegenstand :   0   0   0   0  20  20  20 \n",
      " 2. Gegenstand :   0   0  10  10  20  20  30 \n",
      " 3. Gegenstand :   0   0  10  15  20  25  30 \n",
      "\n",
      "----> Bestmöglichster Wert: 30<----\n"
     ]
    }
   ],
   "execution_count": 6
  },
  {
   "metadata": {},
   "cell_type": "markdown",
   "source": [
    "### Beispiel: Berechnung für den 2. Gegenstand bei einer Kapazität von 6\n",
    "\n",
    "\n",
    "|     | 0 | 1 | 2 | 3 | 4 | 5 | 6 |\n",
    "|-----|---|---|---|---|---|---|---|\n",
    "| 0   | 0 | 0 | 0 | 0 | 0 | 0 | 0 |\n",
    "| 1   | 0 | 0 | 0 | 0 | 20 | 20 | 20 |\n",
    "| 2   | 0 | 0 | 10 | 10 | 20 | 20 | 30 |\n",
    "| 3   | 0 | 0 | 10 | 15 | 20 | 25 | 30 |\n",
    "\n",
    "1. **Ohne den aktuellen Gegenstand (2. Gegenstand):**\n",
    "   - Der maximale Wert ohne den 2. Gegenstand wird aus der Tabelle entnommen:  \n",
    "     `maxWertOhneCurr = tab[1][6] = 20`.\n",
    "\n",
    "2. **Mit dem aktuellen Gegenstand:**\n",
    "   - Gewicht des 2. Gegenstands: `gewichtVonCurr = gewicht_gegenstand[1] = 2`.  \n",
    "   - Da die Kapazität ausreicht (`6 >= 2`), kann der Gegenstand hinzugefügt werden:  \n",
    "     `maxWertMitCurr = wert_gegenstand[1] = 10`.  \n",
    "   - Die verbleibende Kapazität nach Hinzufügen des Gegenstands:  \n",
    "     `verbl_kapazitaet = 6 - 2 = 4`.  \n",
    "   - Wert aus der Tabelle für die verbleibende Kapazität:  \n",
    "     `maxWertMitCurr += tab[1][4] -> 20`.  \n",
    "   - Gesamter Wert mit dem 2. Gegenstand: `maxWertMitCurr = 30`.\n",
    "\n",
    "3. **Vergleich und Eintrag in die Tabelle:**\n",
    "   - Der höhere Wert wird in die Tabelle eingetragen:  \n",
    "     `tab[2][6] = max(20, 30) = 30`.\n",
    "     \n",
    "Die Tabelle speichert den maximalen Wert, der mit den verfügbaren Gegenständen und der Kapazität erreicht werden kann. Hier wird für den 2. Gegenstand bei Kapazität 6 der Wert 30 eingetragen. "
   ],
   "id": "1852e595740691f"
  },
  {
   "metadata": {},
   "cell_type": "markdown",
   "source": [
    "###  Beispiel: Subset-Sum Problem\n",
    "- Gegeben ist eine Menge von zahlen\n",
    "- **Ziel:** eine Zielvariable erreichen aus der Summe der Menge von Zahlen\n",
    "- In diesem Beispiel erfährt man nur, ob es geht nicht mit welcher kombination"
   ],
   "id": "4b85fb727775051e"
  },
  {
   "metadata": {
    "ExecuteTime": {
     "end_time": "2024-11-29T15:53:43.116989Z",
     "start_time": "2024-11-29T15:53:43.111815Z"
    }
   },
   "cell_type": "code",
   "source": [
    "def subset_sum(numbers, target):\n",
    "    n = len(numbers)\n",
    "    \n",
    "    # Initialisierung der Tabelle dp[n+1][target+1]\n",
    "    dp = [[False] * (target + 1) for _ in range(n + 1)]\n",
    "    \n",
    "    # Wenn die Zielsumme 0 ist, ist die Antwort immer True (leere Teilmenge)\n",
    "    for i in range(n + 1):\n",
    "        dp[i][0] = True\n",
    "\n",
    "    # Tabelle füllen\n",
    "    for i in range(1, n + 1):\n",
    "        for j in range(1, target + 1):\n",
    "            if numbers[i - 1] > j: #wenn zahl größer als Ziel status von einer Zeile darüber übernehmen\n",
    "                dp[i][j] = dp[i - 1][j] \n",
    "            else:\n",
    "                dp[i][j] = (dp[i - 1][j] #wenn die Zeile darüber True ist neue auch True\n",
    "                            or dp[i - 1][j - numbers[i - 1]]) #Prüfung in der Tabelle Zielvariable - Zahl\n",
    "\n",
    "    # Rückgabe der Lösung\n",
    "    return dp[n][target]"
   ],
   "id": "d6de6407c1edcf1a",
   "outputs": [],
   "execution_count": 7
  },
  {
   "metadata": {},
   "cell_type": "markdown",
   "source": [
    "#### Beispiel Tabelle \n",
    "- Zielvariable 9\n",
    "- Menge = [3, 34, 4, 12, 5, 2]\n",
    "- reihen = Fall für ersten i Zahlen aus der Menge\n",
    "- Spalten = Fall für Zielvariable j\n",
    "<table border=\"1\" style=\"border-collapse: collapse; text-align: center;\">\n",
    "  <tr>\n",
    "    <th>Index</th>\n",
    "    <th>0</th>\n",
    "    <th>1</th>\n",
    "    <th>2</th>\n",
    "    <th>3</th>\n",
    "    <th>4</th>\n",
    "    <th>5</th>\n",
    "    <th>6</th>\n",
    "    <th>7</th>\n",
    "    <th>8</th>\n",
    "    <th>9</th>\n",
    "  </tr>\n",
    "  <tr>\n",
    "    <td>0</td>\n",
    "    <td>True</td>\n",
    "    <td>False</td>\n",
    "    <td>False</td>\n",
    "    <td>False</td>\n",
    "    <td>False</td>\n",
    "    <td>False</td>\n",
    "    <td>False</td>\n",
    "    <td>False</td>\n",
    "    <td>False</td>\n",
    "    <td>False</td>\n",
    "  </tr>\n",
    "  <tr>\n",
    "    <td>1</td>\n",
    "    <td>True</td>\n",
    "    <td>False</td>\n",
    "    <td>False</td>\n",
    "    <td>True</td>\n",
    "    <td>False</td>\n",
    "    <td>False</td>\n",
    "    <td>False</td>\n",
    "    <td>False</td>\n",
    "    <td>False</td>\n",
    "    <td>False</td>\n",
    "  </tr>\n",
    "  <tr>\n",
    "    <td>2</td>\n",
    "    <td>True</td>\n",
    "    <td>False</td>\n",
    "    <td>False</td>\n",
    "    <td>True</td>\n",
    "    <td>False</td>\n",
    "    <td>False</td>\n",
    "    <td>False</td>\n",
    "    <td>False</td>\n",
    "    <td>False</td>\n",
    "    <td>False</td>\n",
    "  </tr>\n",
    "  <tr>\n",
    "    <td>3</td>\n",
    "    <td>True</td>\n",
    "    <td>False</td>\n",
    "    <td>False</td>\n",
    "    <td>True</td>\n",
    "    <td>True</td>\n",
    "    <td>False</td>\n",
    "    <td>False</td>\n",
    "    <td>True</td>\n",
    "    <td>False</td>\n",
    "    <td>False</td>\n",
    "  </tr>\n",
    "  <tr>\n",
    "    <td>4</td>\n",
    "    <td>True</td>\n",
    "    <td>False</td>\n",
    "    <td>False</td>\n",
    "    <td>True</td>\n",
    "    <td>True</td>\n",
    "    <td>False</td>\n",
    "    <td>False</td>\n",
    "    <td>True</td>\n",
    "    <td>False</td>\n",
    "    <td>False</td>\n",
    "  </tr>\n",
    "  <tr>\n",
    "    <td>5</td>\n",
    "    <td>True</td>\n",
    "    <td>False</td>\n",
    "    <td>False</td>\n",
    "    <td>True</td>\n",
    "    <td>True</td>\n",
    "    <td>True</td>\n",
    "    <td>False</td>\n",
    "    <td>True</td>\n",
    "    <td>True</td>\n",
    "    <td>True</td>\n",
    "  </tr>\n",
    "  <tr>\n",
    "    <td>6</td>\n",
    "    <td>True</td>\n",
    "    <td>False</td>\n",
    "    <td>True</td>\n",
    "    <td>True</td>\n",
    "    <td>True</td>\n",
    "    <td>True</td>\n",
    "    <td>True</td>\n",
    "    <td>True</td>\n",
    "    <td>True</td>\n",
    "    <td>True</td>\n",
    "  </tr>\n",
    "</table>\n"
   ],
   "id": "73e7fd7eb40ba161"
  },
  {
   "metadata": {},
   "cell_type": "markdown",
   "source": [
    "### Erklärung\n",
    "- Zeile darüber Gucken\n",
    "- wenn Zahl x aus Menge Kleiner als Zielvariable \n",
    "  - x Schritte nach links in der Tabelle gucken \n",
    "- Falls eins von beiden True neuer Eintrag auch True\n",
    "    \n",
    "<img src=\"src/SubSetSumBSP.PNG\" alt=\"Beschreibung des Bildes\" style=\"max-width: 100%; height: auto;\">"
   ],
   "id": "84a13acdb62a2e26"
  },
  {
   "metadata": {
    "ExecuteTime": {
     "end_time": "2024-11-29T16:21:49.807982Z",
     "start_time": "2024-11-29T16:21:49.802943Z"
    }
   },
   "cell_type": "code",
   "source": [
    "# Beispiel\n",
    "numbers = [3, 34, 4, 12, 5, 2]\n",
    "target = 9\n",
    "result = subset_sum(numbers, target)\n",
    "\n",
    "print(f\"Gibt es eine Teilmenge, die die Summe {target} ergibt? {'Ja' if result else 'Nein'}\")"
   ],
   "id": "62f86e9bb497ef50",
   "outputs": [
    {
     "name": "stdout",
     "output_type": "stream",
     "text": [
      "Gibt es eine Teilmenge, die die Summe 9 ergibt? Ja\n"
     ]
    }
   ],
   "execution_count": 16
  },
  {
   "metadata": {},
   "cell_type": "markdown",
   "source": [
    "###  Beispiel: Levenshtein-Problem\n",
    "\n",
    "\n",
    "- Metrik um ähnlichkeit von 2 Wörtern zu finden\n",
    "- Distanz zwischen 2 Wörtern\n",
    "    - Die Distanz beschreibt wie viele Schritte Nötig sind, um das eine Wort in das andere zu ändern   \n",
    "- Mögliche Operationen\n",
    "    - Einfügen\n",
    "    - Löschen\n",
    "    - Ersetzen\n",
    "         \n",
    "<img src=\"src/LevenshteinHondaBsp.png\" alt=\"Beschreibung des Bildes\" style=\"max-width: 100%; height: auto;\">\n"
   ],
   "id": "ede6a5ea542d932d"
  },
  {
   "metadata": {
    "ExecuteTime": {
     "end_time": "2024-11-29T15:53:43.273753Z",
     "start_time": "2024-11-29T15:53:43.267406Z"
    }
   },
   "cell_type": "code",
   "source": [
    "def levenshtein_distance(s1, s2):\n",
    "    # Länge der beiden Strings\n",
    "    len_s1, len_s2 = len(s1), len(s2)\n",
    "    \n",
    "    # Eine (len_s1+1) x (len_s2+1) Tabelle initialisieren\n",
    "    dp = [[0 for _ in range(len_s2 + 1)] for _ in range(len_s1 + 1)]\n",
    "    # Basisfälle: Leere Strings\n",
    "    for i in range(len_s1 + 1):\n",
    "        dp[i][0] = i  # Kosten, um alle Zeichen von s1 zu entfernen\n",
    "    for j in range(len_s2 + 1):\n",
    "        dp[0][j] = j  # Kosten, um alle Zeichen von s2 hinzuzufügen\n",
    "    # DP-Formel anwenden\n",
    "    for i in range(1, len_s1 + 1):\n",
    "        for j in range(1, len_s2 + 1):\n",
    "            # Wenn die aktuellen Zeichen gleich sind, keine Kosten\n",
    "            if s1[i - 1] == s2[j - 1]:\n",
    "                cost = 0\n",
    "            else:\n",
    "                cost = 1\n",
    "            \n",
    "            # Minimum aus Einfügen, Löschen und Ersetzen\n",
    "            dp[i][j] = min(dp[i - 1][j] + 1,      # Löschen\n",
    "                           dp[i][j - 1] + 1,      # Einfügen\n",
    "                           dp[i - 1][j - 1] + cost)  # Ersetzen\n",
    "    \n",
    "    # Die unterste rechte Zelle enthält die minimale Distanz\n",
    "    return dp[len_s1][len_s2]\n",
    "\n"
   ],
   "id": "92e446f0026fd106",
   "outputs": [],
   "execution_count": 9
  },
  {
   "metadata": {
    "ExecuteTime": {
     "end_time": "2024-11-29T16:26:09.190636Z",
     "start_time": "2024-11-29T16:26:09.184652Z"
    }
   },
   "cell_type": "code",
   "source": [
    "s1 = \"Tor\"\n",
    "s2 = \"Tier\"\n",
    "print(f\"Die Levenshtein-Distanz zwischen '{s1}' und '{s2}' ist {levenshtein_distance(s1, s2)}.\")"
   ],
   "id": "549dc15e3c8638a4",
   "outputs": [
    {
     "name": "stdout",
     "output_type": "stream",
     "text": [
      "Die Levenshtein-Distanz zwischen 'Tor' und 'Tier' ist 2.\n"
     ]
    }
   ],
   "execution_count": 17
  },
  {
   "metadata": {},
   "cell_type": "markdown",
   "source": "<img src=\"src/LevenshteinBspTor-Tier.PNG\" alt=\"Beschreibung des Bildes\" style=\"max-width: 100%; height: auto;\">",
   "id": "60f7bb0d9e6ab28e"
  },
  {
   "metadata": {},
   "cell_type": "markdown",
   "source": [
    "### Erklärung\n",
    "\n",
    "- Prüfen, ob die Zeichen gleich sind\n",
    "    - wenn ja cost = 0\n",
    "    - wenn nein cost = 1    \n",
    "- Minimum von den 3 Zahlen nehmen\n",
    "- Raster weiter iterieren\n",
    "\n",
    "<img src=\"src/LevenshteinRaster.PNG\" alt=\"Beschreibung des Bildes\" style=\"max-width: 100%; height: auto;\">\n",
    "<br></br>\n",
    "<img src=\"src/Levenshtein1Schritt.PNG\" alt=\"Beschreibung des Bildes\" style=\"max-width: 100%; height: auto;\">\n",
    "<br></br>\n",
    "<img src=\"src/Levenshtein2Schritt.PNG\" alt=\"Beschreibung des Bildes\" style=\"max-width: 100%; height: auto;\">"
   ],
   "id": "7719d63c609bd269"
  },
  {
   "metadata": {
    "ExecuteTime": {
     "end_time": "2024-11-29T15:53:43.344067Z",
     "start_time": "2024-11-29T15:53:43.340468Z"
    }
   },
   "cell_type": "code",
   "source": "",
   "id": "e77853a1b8615067",
   "outputs": [],
   "execution_count": null
  }
 ],
 "metadata": {
  "kernelspec": {
   "display_name": "Python 3",
   "language": "python",
   "name": "python3"
  },
  "language_info": {
   "codemirror_mode": {
    "name": "ipython",
    "version": 2
   },
   "file_extension": ".py",
   "mimetype": "text/x-python",
   "name": "python",
   "nbconvert_exporter": "python",
   "pygments_lexer": "ipython2",
   "version": "2.7.6"
  }
 },
 "nbformat": 4,
 "nbformat_minor": 5
}
